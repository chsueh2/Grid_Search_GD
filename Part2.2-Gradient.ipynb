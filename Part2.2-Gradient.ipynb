{
 "cells": [
  {
   "cell_type": "markdown",
   "metadata": {},
   "source": [
    "# Part 2.2: Prediction Using Gradient Descent"
   ]
  },
  {
   "cell_type": "code",
   "execution_count": 1,
   "metadata": {},
   "outputs": [
    {
     "name": "stdout",
     "output_type": "stream",
     "text": [
      "<class 'pandas.core.frame.DataFrame'>\n",
      "RangeIndex: 1061 entries, 0 to 1060\n",
      "Data columns (total 7 columns):\n",
      " #   Column             Non-Null Count  Dtype   \n",
      "---  ------             --------------  -----   \n",
      " 0   name               1061 non-null   object  \n",
      " 1   selling_price      1061 non-null   int64   \n",
      " 2   year               1061 non-null   int64   \n",
      " 3   seller_type        1061 non-null   category\n",
      " 4   owner              1061 non-null   int32   \n",
      " 5   km_driven          1061 non-null   int64   \n",
      " 6   ex_showroom_price  626 non-null    float64 \n",
      "dtypes: category(1), float64(1), int32(1), int64(3), object(1)\n",
      "memory usage: 46.9+ KB\n",
      "None\n",
      "                                  name  selling_price  year seller_type  \\\n",
      "0            Royal Enfield Classic 350         175000  2019  Individual   \n",
      "1                            Honda Dio          45000  2017  Individual   \n",
      "2  Royal Enfield Classic Gunmetal Grey         150000  2018  Individual   \n",
      "3    Yamaha Fazer FI V 2.0 [2016-2018]          65000  2015  Individual   \n",
      "4                Yamaha SZ [2013-2014]          20000  2011  Individual   \n",
      "\n",
      "   owner  km_driven  ex_showroom_price  \n",
      "0      1        350                NaN  \n",
      "1      1       5650                NaN  \n",
      "2      1      12000           148114.0  \n",
      "3      1      23000            89643.0  \n",
      "4      2      21000                NaN  \n"
     ]
    }
   ],
   "source": [
    "# Run the common codes to import modules, get data and pre-defined loss functions\n",
    "%run Part0.ipynb"
   ]
  },
  {
   "cell_type": "code",
   "execution_count": 2,
   "metadata": {},
   "outputs": [
    {
     "data": {
      "text/html": [
       "<div>\n",
       "<style scoped>\n",
       "    .dataframe tbody tr th:only-of-type {\n",
       "        vertical-align: middle;\n",
       "    }\n",
       "\n",
       "    .dataframe tbody tr th {\n",
       "        vertical-align: top;\n",
       "    }\n",
       "\n",
       "    .dataframe thead th {\n",
       "        text-align: right;\n",
       "    }\n",
       "</style>\n",
       "<table border=\"1\" class=\"dataframe\">\n",
       "  <thead>\n",
       "    <tr style=\"text-align: right;\">\n",
       "      <th></th>\n",
       "      <th>name</th>\n",
       "      <th>selling_price</th>\n",
       "      <th>year</th>\n",
       "      <th>seller_type</th>\n",
       "      <th>owner</th>\n",
       "      <th>km_driven</th>\n",
       "      <th>ex_showroom_price</th>\n",
       "    </tr>\n",
       "  </thead>\n",
       "  <tbody>\n",
       "    <tr>\n",
       "      <th>0</th>\n",
       "      <td>Royal Enfield Classic 350</td>\n",
       "      <td>175000</td>\n",
       "      <td>2019</td>\n",
       "      <td>Individual</td>\n",
       "      <td>1</td>\n",
       "      <td>350</td>\n",
       "      <td>NaN</td>\n",
       "    </tr>\n",
       "    <tr>\n",
       "      <th>1</th>\n",
       "      <td>Honda Dio</td>\n",
       "      <td>45000</td>\n",
       "      <td>2017</td>\n",
       "      <td>Individual</td>\n",
       "      <td>1</td>\n",
       "      <td>5650</td>\n",
       "      <td>NaN</td>\n",
       "    </tr>\n",
       "    <tr>\n",
       "      <th>2</th>\n",
       "      <td>Royal Enfield Classic Gunmetal Grey</td>\n",
       "      <td>150000</td>\n",
       "      <td>2018</td>\n",
       "      <td>Individual</td>\n",
       "      <td>1</td>\n",
       "      <td>12000</td>\n",
       "      <td>148114.0</td>\n",
       "    </tr>\n",
       "    <tr>\n",
       "      <th>3</th>\n",
       "      <td>Yamaha Fazer FI V 2.0 [2016-2018]</td>\n",
       "      <td>65000</td>\n",
       "      <td>2015</td>\n",
       "      <td>Individual</td>\n",
       "      <td>1</td>\n",
       "      <td>23000</td>\n",
       "      <td>89643.0</td>\n",
       "    </tr>\n",
       "    <tr>\n",
       "      <th>4</th>\n",
       "      <td>Yamaha SZ [2013-2014]</td>\n",
       "      <td>20000</td>\n",
       "      <td>2011</td>\n",
       "      <td>Individual</td>\n",
       "      <td>2</td>\n",
       "      <td>21000</td>\n",
       "      <td>NaN</td>\n",
       "    </tr>\n",
       "  </tbody>\n",
       "</table>\n",
       "</div>"
      ],
      "text/plain": [
       "                                  name  selling_price  year seller_type  \\\n",
       "0            Royal Enfield Classic 350         175000  2019  Individual   \n",
       "1                            Honda Dio          45000  2017  Individual   \n",
       "2  Royal Enfield Classic Gunmetal Grey         150000  2018  Individual   \n",
       "3    Yamaha Fazer FI V 2.0 [2016-2018]          65000  2015  Individual   \n",
       "4                Yamaha SZ [2013-2014]          20000  2011  Individual   \n",
       "\n",
       "   owner  km_driven  ex_showroom_price  \n",
       "0      1        350                NaN  \n",
       "1      1       5650                NaN  \n",
       "2      1      12000           148114.0  \n",
       "3      1      23000            89643.0  \n",
       "4      2      21000                NaN  "
      ]
     },
     "execution_count": 2,
     "metadata": {},
     "output_type": "execute_result"
    }
   ],
   "source": [
    "# the dataframe\n",
    "df.head()"
   ]
  },
  {
   "cell_type": "code",
   "execution_count": 3,
   "metadata": {},
   "outputs": [
    {
     "data": {
      "text/plain": [
       "2.4324199198877374"
      ]
     },
     "execution_count": 3,
     "metadata": {},
     "output_type": "execute_result"
    }
   ],
   "source": [
    "# the loss function\n",
    "x = [34, 37, 44, 47, 48, 48, 46, 43, 32, 27, 26, 24]\n",
    "y = [37, 40, 46, 44, 46, 50, 45, 44, 34, 30, 22, 23]\n",
    "\n",
    "loss(x, y)"
   ]
  },
  {
   "cell_type": "markdown",
   "metadata": {},
   "source": [
    "## Define helper functions\n",
    "Before we start the grid search, it will be convinient if we first define the following functions:\n",
    "1. The slope function to calculate the slope of the loss function\n",
    "2. The gradient descent function to search the optimal parameters"
   ]
  },
  {
   "cell_type": "code",
   "execution_count": 4,
   "metadata": {},
   "outputs": [],
   "source": [
    "# calculate a slope of the loss function\n",
    "## obs: observations (pandas series)\n",
    "## var_x: variable (regressor) used for prediction (pandas series)\n",
    "## vec_b: parameter vector of the starting point (list of b0 and b1)\n",
    "## vec_delta: delta of parameter vector (list of steps for b0 and b1)\n",
    "def slope(obs, var_x, vec_b, vec_delta):    \n",
    "    # distance between two points (current b and new b)\n",
    "    dist = np.linalg.norm(vec_delta)\n",
    "    \n",
    "    if dist == 0:\n",
    "        rate = 0\n",
    "    else:             \n",
    "        # starting point\n",
    "        x0 = vec_b[0] + vec_b[1] * np.array(var_x)\n",
    "        y0 = loss(obs, x0)\n",
    "        \n",
    "        # end point\n",
    "        vec_b_new = np.add(vec_b, vec_delta)\n",
    "        x1 = vec_b_new[0] + vec_b_new[1] * np.array(var_x)\n",
    "        y1 = loss(obs, x1)              \n",
    "        \n",
    "        # the change rate (slope)\n",
    "        rate = (y1 - y0)/dist\n",
    "        pass\n",
    "    \n",
    "    return rate\n"
   ]
  },
  {
   "cell_type": "code",
   "execution_count": 5,
   "metadata": {},
   "outputs": [],
   "source": [
    "# gradient descent function\n",
    "## obs: observations (pandas series)\n",
    "## var_x: variable (regressor) used for prediction (pandas series)\n",
    "## lst_b0: initial b0 and its step size (list of b0 and delat_b0)\n",
    "## lst_b1: initial b1 and its step size (list of b1 and delat_b1)\n",
    "## tolerance: the search ending criteria \n",
    "## max_iter: maximum number of iteration\n",
    "def GD(obs, var_x, lst_b0, lst_b1, tolerance = 0.001, max_iter = 2000):\n",
    "    # initialize a list to save seach history\n",
    "    hist = []\n",
    "    \n",
    "    # initialize the starting point and distance\n",
    "    vec_b = [lst_b0[0], lst_b1[0]]\n",
    "    delta_b0, delta_b1 = np.abs(lst_b0[1]), np.abs(lst_b1[1])\n",
    "    dist = tolerance  \n",
    "    \n",
    "    for i in range(max_iter):\n",
    "        # along b0 axis\n",
    "        slope_b0 = slope(obs, var_x, vec_b, [tolerance, 0])   \n",
    "        b0_new = vec_b[0] - slope_b0 * delta_b0\n",
    "        \n",
    "        # along b1 axis\n",
    "        slope_b1 = slope(obs, var_x, vec_b, [0, tolerance**2])        \n",
    "        b1_new = vec_b[1] - slope_b1 * delta_b1  \n",
    "    \n",
    "        # distance\n",
    "        dist = np.linalg.norm(np.subtract(vec_b, [b0_new, b1_new]))\n",
    "        \n",
    "        # update b0, b1 and append it to the search history\n",
    "        vec_b = [b0_new, b1_new]\n",
    "        hist.append(vec_b)\n",
    "        \n",
    "        # exit the loop if the results meets the requirement\n",
    "        if dist < tolerance:\n",
    "            break\n",
    "        pass  \n",
    "    \n",
    "    # return the search history of [b0, b1]\n",
    "    return hist"
   ]
  },
  {
   "cell_type": "markdown",
   "metadata": {},
   "source": [
    "## Task 1: Just $y$\n",
    "The model we will first try is: $\\hat{y}_i = \\beta_0 + \\beta_1 x_i$ with $\\beta_1 = 0$.\n",
    "\n",
    "In this case, we only use $\\beta_0$ to predict the selling price. \n",
    "- Initial values for $\\beta_0$: In order to show our algorithm works, we arbitarily choose the initial value 0 and step size of 1000. \n",
    "- Initial values for $\\beta_1$: The initial value is 0 (we are not using it in this model) and set the step size to 0 so that we are not change its value."
   ]
  },
  {
   "cell_type": "code",
   "execution_count": 6,
   "metadata": {},
   "outputs": [
    {
     "name": "stdout",
     "output_type": "stream",
     "text": [
      "789 iterations completed. The last 10 sets of [b0, b1] in the search history:\n"
     ]
    },
    {
     "data": {
      "text/plain": [
       "[[59638.08612432331, 0.0],\n",
       " [59638.08728120057, 0.0],\n",
       " [59638.08841624996, 0.0],\n",
       " [59638.08952947147, 0.0],\n",
       " [59638.09062814107, 0.0],\n",
       " [59638.0917049828, 0.0],\n",
       " [59638.09276727261, 0.0],\n",
       " [59638.09380773455, 0.0],\n",
       " [59638.094826368615, 0.0],\n",
       " [59638.09582317481, 0.0]]"
      ]
     },
     "execution_count": 6,
     "metadata": {},
     "output_type": "execute_result"
    }
   ],
   "source": [
    "# set up initial parameters\n",
    "## lst_b0 = [initial b0, its step size]\n",
    "## lst_b1 = [initial b1, its step size]\n",
    "lst_b0 = [0, 1000]\n",
    "lst_b1 = [0, 0]\n",
    "\n",
    "# perform gradient descent algorithm\n",
    "hist = GD(df.selling_price, df.km_driven, lst_b0, lst_b1)\n",
    "\n",
    "# print the results\n",
    "print(f\"{len(hist)} iterations completed. The last 10 sets of [b0, b1] in the search history:\")\n",
    "hist[-10:]"
   ]
  },
  {
   "cell_type": "markdown",
   "metadata": {},
   "source": [
    "After 788 iterations, we get a convergent result. \n",
    "- $\\beta_0 = 59638.09582317481$\n",
    "\n",
    "This is close to the mean of the selling price $59638.151744$ as expected."
   ]
  },
  {
   "cell_type": "markdown",
   "metadata": {},
   "source": [
    "## Task 2: Using $y$ and another numeric variable $x$\n",
    "Now we will fit the model $\\hat{y}_i = \\beta_0 + \\beta_1 x_i$.\n",
    "\n",
    "In this case, we only use $\\beta_0$ to predict the selling price. \n",
    "- Initial values for $\\beta_0$: We arbitarily choose the initial value 0 and step size of 1000. \n",
    "- Initial values for $\\beta_1$: "
   ]
  },
  {
   "cell_type": "markdown",
   "metadata": {},
   "source": [
    "### Attempt 1"
   ]
  },
  {
   "cell_type": "code",
   "execution_count": 7,
   "metadata": {},
   "outputs": [
    {
     "name": "stdout",
     "output_type": "stream",
     "text": [
      "2000 iterations completed. The last 10 sets of [b0, b1] in the search history:\n"
     ]
    },
    {
     "data": {
      "text/plain": [
       "[[1093.511178623885, 17937388.867721893],\n",
       " [605.2299286238849, -44074329.88227811],\n",
       " [1093.511178623885, 17937388.867721893],\n",
       " [605.2299286238849, -44074329.88227811],\n",
       " [1093.511178623885, 17937388.867721893],\n",
       " [605.2299286238849, -44074329.88227811],\n",
       " [1093.511178623885, 17937388.867721893],\n",
       " [605.2299286238849, -44074329.88227811],\n",
       " [1093.511178623885, 17937388.867721893],\n",
       " [605.2299286238849, -44074329.88227811]]"
      ]
     },
     "execution_count": 7,
     "metadata": {},
     "output_type": "execute_result"
    }
   ],
   "source": [
    "# set up initial parameters\n",
    "## lst_b0 = [initial b0, its step size]\n",
    "## lst_b1 = [initial b1, its step size]\n",
    "lst_b0 = [0, 1000]\n",
    "lst_b1 = [0, 1000]\n",
    "\n",
    "# perform gradient descent algorithm\n",
    "hist = GD(df.selling_price, df.km_driven, lst_b0, lst_b1)\n",
    "\n",
    "# print the results\n",
    "print(f\"{len(hist)} iterations completed. The last 10 sets of [b0, b1] in the search history:\")\n",
    "hist[-10:]"
   ]
  },
  {
   "cell_type": "markdown",
   "metadata": {},
   "source": [
    "The iteration number reaches the maximum setting and we don't get convergent result.\n",
    "\n",
    "From the search history, the values of [$\\beta_0$, $\\beta_1$] change between two points ([605, -44074329] and [1093, 17937388]). This implies at least one of the step sizes we used is too big. "
   ]
  },
  {
   "cell_type": "code",
   "execution_count": 8,
   "metadata": {},
   "outputs": [
    {
     "data": {
      "image/png": "[encoded data removed]",
      "text/plain": [
       "<Figure size 432x288 with 1 Axes>"
      ]
     },
     "metadata": {
      "needs_background": "light"
     },
     "output_type": "display_data"
    }
   ],
   "source": [
    "# plot the search history\n",
    "x, y = np.array(hist[-100:]).T\n",
    "plt.scatter(x, y, )\n",
    "plt.title(\"Search History: Last 100 results\")\n",
    "plt.xlabel(\"b0\")\n",
    "plt.ylabel(\"b1\")\n",
    "\n",
    "plt.show()"
   ]
  },
  {
   "cell_type": "markdown",
   "metadata": {},
   "source": [
    "Since, in the Task 1, we can get a convergent result with step size 1000 for $\\beta_0$, we will try to use a smaller step size (1000 time smaller) for $\\beta_1$ in our next attempt."
   ]
  },
  {
   "cell_type": "markdown",
   "metadata": {},
   "source": [
    "### Attempt 2"
   ]
  },
  {
   "cell_type": "code",
   "execution_count": 9,
   "metadata": {},
   "outputs": [
    {
     "name": "stdout",
     "output_type": "stream",
     "text": [
      "2000 iterations completed. The last 10 sets of [b0, b1] in the search history:\n"
     ]
    },
    {
     "data": {
      "text/plain": [
       "[[727.3002411238849, 17448.63078056369],\n",
       " [173.21546329185367, -44543.53764594998],\n",
       " [727.3002411238849, 17448.63078056369],\n",
       " [173.21546329185367, -44543.53764594998],\n",
       " [727.3002411238849, 17448.63078056369],\n",
       " [173.21546329185367, -44543.53764594998],\n",
       " [727.3002411238849, 17448.63078056369],\n",
       " [173.21546329185367, -44543.53764594998],\n",
       " [727.3002411238849, 17448.63078056369],\n",
       " [173.21546329185367, -44543.53764594998]]"
      ]
     },
     "execution_count": 9,
     "metadata": {},
     "output_type": "execute_result"
    }
   ],
   "source": [
    "# set up initial parameters\n",
    "## lst_b0 = [initial b0, its step size]\n",
    "## lst_b1 = [initial b1, its step size]\n",
    "lst_b0 = [0, 1000]\n",
    "lst_b1 = [0, 1000 / 1000]\n",
    "\n",
    "# perform gradient descent algorithm\n",
    "hist = GD(df.selling_price, df.km_driven, lst_b0, lst_b1)\n",
    "\n",
    "# print the results\n",
    "print(f\"{len(hist)} iterations completed. The last 10 sets of [b0, b1] in the search history:\")\n",
    "hist[-10:]"
   ]
  },
  {
   "cell_type": "markdown",
   "metadata": {},
   "source": [
    "The iteration number reaches the maximum setting and we don't get convergent result.\n",
    "\n",
    "From the search history, the values of [$\\beta_0$, $\\beta_1$] change between two points. This implies at least one of the step sizes we used is too big. \n",
    "\n",
    "We will try to use a smaller step size (1000 time smaller again) for $\\beta_1$ in our next attempt."
   ]
  },
  {
   "cell_type": "markdown",
   "metadata": {},
   "source": [
    "### Attempt 3"
   ]
  },
  {
   "cell_type": "code",
   "execution_count": 10,
   "metadata": {},
   "outputs": [
    {
     "name": "stdout",
     "output_type": "stream",
     "text": [
      "2000 iterations completed. The last 10 sets of [b0, b1] in the search history:\n"
     ]
    },
    {
     "data": {
      "text/plain": [
       "[[35518.29530624673, 30.961704571382143],\n",
       " [34975.9177188389, -30.99899050721433],\n",
       " [35541.636345442384, 30.96180818101857],\n",
       " [34999.250376131386, -30.998895977973007],\n",
       " [35564.96085366234, 30.961911324993707],\n",
       " [35022.56626961753, -30.998802147223614],\n",
       " [35588.26836524531, 30.96201283915434],\n",
       " [35045.86493363604, -30.998710411950015],\n",
       " [35611.55911302194, 30.96211295633111],\n",
       " [35069.14706667885, -30.998619375168346]]"
      ]
     },
     "execution_count": 10,
     "metadata": {},
     "output_type": "execute_result"
    }
   ],
   "source": [
    "# set up initial parameters\n",
    "## lst_b0 = [initial b0, its step size]\n",
    "## lst_b1 = [initial b1, its step size]\n",
    "lst_b0 = [0, 1000]\n",
    "lst_b1 = [0, 1000 / 1000**2]\n",
    "\n",
    "# perform gradient descent algorithm\n",
    "hist = GD(df.selling_price, df.km_driven, lst_b0, lst_b1)\n",
    "\n",
    "# print the results\n",
    "print(f\"{len(hist)} iterations completed. The last 10 sets of [b0, b1] in the search history:\")\n",
    "hist[-10:]"
   ]
  },
  {
   "cell_type": "markdown",
   "metadata": {},
   "source": [
    "The iteration number reaches the maximum setting and we don't get convergent result.\n",
    "\n",
    "From the search history, the values of [$\\beta_0$, $\\beta_1$] change between two points. This implies at least one of the step sizes we used is too big. \n",
    "\n",
    "We will try to use a smaller step size (1000 time smaller again) for $\\beta_1$ in our next attempt."
   ]
  },
  {
   "cell_type": "markdown",
   "metadata": {},
   "source": [
    "### Attempt 4"
   ]
  },
  {
   "cell_type": "code",
   "execution_count": 11,
   "metadata": {},
   "outputs": [
    {
     "name": "stdout",
     "output_type": "stream",
     "text": [
      "1187 iterations completed. The last 10 sets of [b0, b1] in the search history:\n"
     ]
    },
    {
     "data": {
      "text/plain": [
       "[[67618.00127424067, -0.23224530801235233],\n",
       " [67618.00236563431, -0.23224531971936813],\n",
       " [67618.00344247604, -0.23224533128086478],\n",
       " [67618.0045120418, -0.2322453427113942],\n",
       " [67618.00556705566, -0.2322453540036804],\n",
       " [67618.0066075176, -0.2322453651795513],\n",
       " [67618.00764070358, -0.23224537620990304],\n",
       " [67618.00865933765, -0.23224538712383946],\n",
       " [67618.0096634198, -0.23224539790680865],\n",
       " [67618.01066022599, -0.23224540856608655]]"
      ]
     },
     "execution_count": 11,
     "metadata": {},
     "output_type": "execute_result"
    }
   ],
   "source": [
    "# set up initial parameters\n",
    "## lst_b0 = [initial b0, its step size]\n",
    "## lst_b1 = [initial b1, its step size]\n",
    "lst_b0 = [0, 1000]\n",
    "lst_b1 = [0, 1000 / 1000 ** 3]\n",
    "\n",
    "# perform gradient descent algorithm\n",
    "hist = GD(df.selling_price, df.km_driven, lst_b0, lst_b1)\n",
    "\n",
    "# print the results\n",
    "print(f\"{len(hist)} iterations completed. The last 10 sets of [b0, b1] in the search history:\")\n",
    "hist[-10:]"
   ]
  },
  {
   "cell_type": "markdown",
   "metadata": {},
   "source": [
    "After 1186 iterations, we get convergent results:\n",
    "- $\\beta_0 = 67618.01066022599$\n",
    "- $\\beta_1 = -0.23224540856608655$\n",
    "\n",
    "And these agree well with the simple linear regression:"
   ]
  },
  {
   "cell_type": "code",
   "execution_count": 12,
   "metadata": {},
   "outputs": [
    {
     "name": "stdout",
     "output_type": "stream",
     "text": [
      "intercept (b0) = 67618.07212024048, slope (b1) = -0.2322456088674644\n"
     ]
    }
   ],
   "source": [
    "# fit a simple linear regression model for comparison\n",
    "slope, intercept, *_ = stats.linregress(df.km_driven, df.selling_price)\n",
    "print(f\"intercept (b0) = {intercept}, slope (b1) = {slope}\")"
   ]
  },
  {
   "cell_type": "code",
   "execution_count": 13,
   "metadata": {},
   "outputs": [
    {
     "data": {
      "image/png": "[encoded data removed]",
      "text/plain": [
       "<Figure size 432x288 with 1 Axes>"
      ]
     },
     "metadata": {
      "needs_background": "light"
     },
     "output_type": "display_data"
    }
   ],
   "source": [
    "# plot the search history\n",
    "x, y = np.array(hist).T\n",
    "plt.scatter(x, y, )\n",
    "plt.title(\"Search History\")\n",
    "plt.xlabel(\"b0\")\n",
    "plt.ylabel(\"b1\")\n",
    "\n",
    "plt.annotate(\"Starting point\", xy =(0, -0.025), c = \"green\")\n",
    "plt.annotate(\"End point\", xy =(55000, -0.225), c = \"red\")\n",
    "\n",
    "plt.show()"
   ]
  },
  {
   "cell_type": "markdown",
   "metadata": {},
   "source": [
    "## Task 3: Predict Selling Prices"
   ]
  },
  {
   "cell_type": "code",
   "execution_count": 14,
   "metadata": {},
   "outputs": [
    {
     "data": {
      "text/plain": [
       "[65295.556574565126, 61811.87544607383, 59489.42136041296]"
      ]
     },
     "execution_count": 14,
     "metadata": {},
     "output_type": "execute_result"
    }
   ],
   "source": [
    "# get b0 and b1 from the last entry of the search history\n",
    "b0, b1 = hist[-1]\n",
    "\n",
    "# Use the model to predict the selling prices for the specified driven distances\n",
    "[b0 + b1*x for x in [10000, 25000, 35000]]"
   ]
  },
  {
   "cell_type": "markdown",
   "metadata": {},
   "source": [
    "- The predicted selling price for 10000 km driven distance is 65313.11968071168.\n",
    "- The predicted selling price for 25000 km driven distance is 61818.6236917336.\n",
    "- The predicted selling price for 35000 km driven distance is 59488.95969908155."
   ]
  }
 ],
 "metadata": {
  "interpreter": {
   "hash": "662f86ef376671a988e108b9a80f41ae296e240171aee519bbf45f59b71f9158"
  },
  "kernelspec": {
   "display_name": "Python 3.10.1 64-bit",
   "language": "python",
   "name": "python3"
  },
  "language_info": {
   "codemirror_mode": {
    "name": "ipython",
    "version": 3
   },
   "file_extension": ".py",
   "mimetype": "text/x-python",
   "name": "python",
   "nbconvert_exporter": "python",
   "pygments_lexer": "ipython3",
   "version": "3.10.1"
  },
  "orig_nbformat": 4
 },
 "nbformat": 4,
 "nbformat_minor": 2
}
