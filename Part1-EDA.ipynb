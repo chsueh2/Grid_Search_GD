{
 "cells": [
  {
   "cell_type": "markdown",
   "metadata": {},
   "source": [
    "# Part 1: EDA"
   ]
  },
  {
   "cell_type": "code",
   "execution_count": 5,
   "metadata": {},
   "outputs": [
    {
     "name": "stdout",
     "output_type": "stream",
     "text": [
      "<class 'pandas.core.frame.DataFrame'>\n",
      "RangeIndex: 1061 entries, 0 to 1060\n",
      "Data columns (total 7 columns):\n",
      " #   Column             Non-Null Count  Dtype   \n",
      "---  ------             --------------  -----   \n",
      " 0   name               1061 non-null   object  \n",
      " 1   selling_price      1061 non-null   int64   \n",
      " 2   year               1061 non-null   int64   \n",
      " 3   seller_type        1061 non-null   category\n",
      " 4   owner              1061 non-null   int32   \n",
      " 5   km_driven          1061 non-null   int64   \n",
      " 6   ex_showroom_price  626 non-null    float64 \n",
      "dtypes: category(1), float64(1), int32(1), int64(3), object(1)\n",
      "memory usage: 46.9+ KB\n",
      "None\n",
      "                                  name  selling_price  year seller_type  \\\n",
      "0            Royal Enfield Classic 350         175000  2019  Individual   \n",
      "1                            Honda Dio          45000  2017  Individual   \n",
      "2  Royal Enfield Classic Gunmetal Grey         150000  2018  Individual   \n",
      "3    Yamaha Fazer FI V 2.0 [2016-2018]          65000  2015  Individual   \n",
      "4                Yamaha SZ [2013-2014]          20000  2011  Individual   \n",
      "\n",
      "   owner  km_driven  ex_showroom_price  \n",
      "0      1        350                NaN  \n",
      "1      1       5650                NaN  \n",
      "2      1      12000           148114.0  \n",
      "3      1      23000            89643.0  \n",
      "4      2      21000                NaN  \n"
     ]
    }
   ],
   "source": [
    "# Run the common codes to import modules, get data and pre-defined loss functions\n",
    "%run Part0.ipynb"
   ]
  },
  {
   "cell_type": "code",
   "execution_count": 6,
   "metadata": {},
   "outputs": [
    {
     "data": {
      "text/html": [
       "<div>\n",
       "<style scoped>\n",
       "    .dataframe tbody tr th:only-of-type {\n",
       "        vertical-align: middle;\n",
       "    }\n",
       "\n",
       "    .dataframe tbody tr th {\n",
       "        vertical-align: top;\n",
       "    }\n",
       "\n",
       "    .dataframe thead th {\n",
       "        text-align: right;\n",
       "    }\n",
       "</style>\n",
       "<table border=\"1\" class=\"dataframe\">\n",
       "  <thead>\n",
       "    <tr style=\"text-align: right;\">\n",
       "      <th></th>\n",
       "      <th>name</th>\n",
       "      <th>selling_price</th>\n",
       "      <th>year</th>\n",
       "      <th>seller_type</th>\n",
       "      <th>owner</th>\n",
       "      <th>km_driven</th>\n",
       "      <th>ex_showroom_price</th>\n",
       "    </tr>\n",
       "  </thead>\n",
       "  <tbody>\n",
       "    <tr>\n",
       "      <th>0</th>\n",
       "      <td>Royal Enfield Classic 350</td>\n",
       "      <td>175000</td>\n",
       "      <td>2019</td>\n",
       "      <td>Individual</td>\n",
       "      <td>1</td>\n",
       "      <td>350</td>\n",
       "      <td>NaN</td>\n",
       "    </tr>\n",
       "    <tr>\n",
       "      <th>1</th>\n",
       "      <td>Honda Dio</td>\n",
       "      <td>45000</td>\n",
       "      <td>2017</td>\n",
       "      <td>Individual</td>\n",
       "      <td>1</td>\n",
       "      <td>5650</td>\n",
       "      <td>NaN</td>\n",
       "    </tr>\n",
       "    <tr>\n",
       "      <th>2</th>\n",
       "      <td>Royal Enfield Classic Gunmetal Grey</td>\n",
       "      <td>150000</td>\n",
       "      <td>2018</td>\n",
       "      <td>Individual</td>\n",
       "      <td>1</td>\n",
       "      <td>12000</td>\n",
       "      <td>148114.0</td>\n",
       "    </tr>\n",
       "    <tr>\n",
       "      <th>3</th>\n",
       "      <td>Yamaha Fazer FI V 2.0 [2016-2018]</td>\n",
       "      <td>65000</td>\n",
       "      <td>2015</td>\n",
       "      <td>Individual</td>\n",
       "      <td>1</td>\n",
       "      <td>23000</td>\n",
       "      <td>89643.0</td>\n",
       "    </tr>\n",
       "    <tr>\n",
       "      <th>4</th>\n",
       "      <td>Yamaha SZ [2013-2014]</td>\n",
       "      <td>20000</td>\n",
       "      <td>2011</td>\n",
       "      <td>Individual</td>\n",
       "      <td>2</td>\n",
       "      <td>21000</td>\n",
       "      <td>NaN</td>\n",
       "    </tr>\n",
       "  </tbody>\n",
       "</table>\n",
       "</div>"
      ],
      "text/plain": [
       "                                  name  selling_price  year seller_type  \\\n",
       "0            Royal Enfield Classic 350         175000  2019  Individual   \n",
       "1                            Honda Dio          45000  2017  Individual   \n",
       "2  Royal Enfield Classic Gunmetal Grey         150000  2018  Individual   \n",
       "3    Yamaha Fazer FI V 2.0 [2016-2018]          65000  2015  Individual   \n",
       "4                Yamaha SZ [2013-2014]          20000  2011  Individual   \n",
       "\n",
       "   owner  km_driven  ex_showroom_price  \n",
       "0      1        350                NaN  \n",
       "1      1       5650                NaN  \n",
       "2      1      12000           148114.0  \n",
       "3      1      23000            89643.0  \n",
       "4      2      21000                NaN  "
      ]
     },
     "execution_count": 6,
     "metadata": {},
     "output_type": "execute_result"
    }
   ],
   "source": [
    "df.head()"
   ]
  },
  {
   "cell_type": "markdown",
   "metadata": {},
   "source": [
    "## Task 1: Numeric summaries of the selling_price variable"
   ]
  },
  {
   "cell_type": "code",
   "execution_count": 9,
   "metadata": {},
   "outputs": [
    {
     "data": {
      "text/html": [
       "<div>\n",
       "<style scoped>\n",
       "    .dataframe tbody tr th:only-of-type {\n",
       "        vertical-align: middle;\n",
       "    }\n",
       "\n",
       "    .dataframe tbody tr th {\n",
       "        vertical-align: top;\n",
       "    }\n",
       "\n",
       "    .dataframe thead th {\n",
       "        text-align: right;\n",
       "    }\n",
       "</style>\n",
       "<table border=\"1\" class=\"dataframe\">\n",
       "  <thead>\n",
       "    <tr style=\"text-align: right;\">\n",
       "      <th></th>\n",
       "      <th>count</th>\n",
       "      <th>mean</th>\n",
       "      <th>std</th>\n",
       "      <th>min</th>\n",
       "      <th>25%</th>\n",
       "      <th>50%</th>\n",
       "      <th>75%</th>\n",
       "      <th>max</th>\n",
       "    </tr>\n",
       "    <tr>\n",
       "      <th>seller_type</th>\n",
       "      <th></th>\n",
       "      <th></th>\n",
       "      <th></th>\n",
       "      <th></th>\n",
       "      <th></th>\n",
       "      <th></th>\n",
       "      <th></th>\n",
       "      <th></th>\n",
       "    </tr>\n",
       "  </thead>\n",
       "  <tbody>\n",
       "    <tr>\n",
       "      <th>Dealer</th>\n",
       "      <td>6.0</td>\n",
       "      <td>46666.666667</td>\n",
       "      <td>25734.542286</td>\n",
       "      <td>15000.0</td>\n",
       "      <td>28250.0</td>\n",
       "      <td>44000.0</td>\n",
       "      <td>66500.0</td>\n",
       "      <td>80000.0</td>\n",
       "    </tr>\n",
       "    <tr>\n",
       "      <th>Individual</th>\n",
       "      <td>1055.0</td>\n",
       "      <td>59711.923223</td>\n",
       "      <td>56427.961672</td>\n",
       "      <td>5000.0</td>\n",
       "      <td>28000.0</td>\n",
       "      <td>45000.0</td>\n",
       "      <td>70000.0</td>\n",
       "      <td>760000.0</td>\n",
       "    </tr>\n",
       "  </tbody>\n",
       "</table>\n",
       "</div>"
      ],
      "text/plain": [
       "              count          mean           std      min      25%      50%  \\\n",
       "seller_type                                                                  \n",
       "Dealer          6.0  46666.666667  25734.542286  15000.0  28250.0  44000.0   \n",
       "Individual   1055.0  59711.923223  56427.961672   5000.0  28000.0  45000.0   \n",
       "\n",
       "                 75%       max  \n",
       "seller_type                     \n",
       "Dealer       66500.0   80000.0  \n",
       "Individual   70000.0  760000.0  "
      ]
     },
     "execution_count": 9,
     "metadata": {},
     "output_type": "execute_result"
    }
   ],
   "source": [
    "# numeric summaries of selling_price by seller_type\n",
    "df.groupby(\"seller_type\")[\"selling_price\"].describe()"
   ]
  },
  {
   "cell_type": "code",
   "execution_count": 86,
   "metadata": {},
   "outputs": [
    {
     "data": {
      "text/html": [
       "<div>\n",
       "<style scoped>\n",
       "    .dataframe tbody tr th:only-of-type {\n",
       "        vertical-align: middle;\n",
       "    }\n",
       "\n",
       "    .dataframe tbody tr th {\n",
       "        vertical-align: top;\n",
       "    }\n",
       "\n",
       "    .dataframe thead th {\n",
       "        text-align: right;\n",
       "    }\n",
       "</style>\n",
       "<table border=\"1\" class=\"dataframe\">\n",
       "  <thead>\n",
       "    <tr style=\"text-align: right;\">\n",
       "      <th></th>\n",
       "      <th>count</th>\n",
       "      <th>mean</th>\n",
       "      <th>std</th>\n",
       "      <th>min</th>\n",
       "      <th>25%</th>\n",
       "      <th>50%</th>\n",
       "      <th>75%</th>\n",
       "      <th>max</th>\n",
       "    </tr>\n",
       "    <tr>\n",
       "      <th>owner</th>\n",
       "      <th></th>\n",
       "      <th></th>\n",
       "      <th></th>\n",
       "      <th></th>\n",
       "      <th></th>\n",
       "      <th></th>\n",
       "      <th></th>\n",
       "      <th></th>\n",
       "    </tr>\n",
       "  </thead>\n",
       "  <tbody>\n",
       "    <tr>\n",
       "      <th>1</th>\n",
       "      <td>924.0</td>\n",
       "      <td>60022.813853</td>\n",
       "      <td>51542.569711</td>\n",
       "      <td>5000.0</td>\n",
       "      <td>30000.0</td>\n",
       "      <td>45000.0</td>\n",
       "      <td>74250.0</td>\n",
       "      <td>760000.0</td>\n",
       "    </tr>\n",
       "    <tr>\n",
       "      <th>2</th>\n",
       "      <td>123.0</td>\n",
       "      <td>55666.658537</td>\n",
       "      <td>81671.923395</td>\n",
       "      <td>6000.0</td>\n",
       "      <td>25000.0</td>\n",
       "      <td>32000.0</td>\n",
       "      <td>57500.0</td>\n",
       "      <td>750000.0</td>\n",
       "    </tr>\n",
       "    <tr>\n",
       "      <th>3</th>\n",
       "      <td>11.0</td>\n",
       "      <td>55727.272727</td>\n",
       "      <td>38385.129697</td>\n",
       "      <td>20000.0</td>\n",
       "      <td>27500.0</td>\n",
       "      <td>45000.0</td>\n",
       "      <td>67500.0</td>\n",
       "      <td>150000.0</td>\n",
       "    </tr>\n",
       "    <tr>\n",
       "      <th>4</th>\n",
       "      <td>3.0</td>\n",
       "      <td>118333.333333</td>\n",
       "      <td>183325.757419</td>\n",
       "      <td>10000.0</td>\n",
       "      <td>12500.0</td>\n",
       "      <td>15000.0</td>\n",
       "      <td>172500.0</td>\n",
       "      <td>330000.0</td>\n",
       "    </tr>\n",
       "  </tbody>\n",
       "</table>\n",
       "</div>"
      ],
      "text/plain": [
       "       count           mean            std      min      25%      50%  \\\n",
       "owner                                                                   \n",
       "1      924.0   60022.813853   51542.569711   5000.0  30000.0  45000.0   \n",
       "2      123.0   55666.658537   81671.923395   6000.0  25000.0  32000.0   \n",
       "3       11.0   55727.272727   38385.129697  20000.0  27500.0  45000.0   \n",
       "4        3.0  118333.333333  183325.757419  10000.0  12500.0  15000.0   \n",
       "\n",
       "            75%       max  \n",
       "owner                      \n",
       "1       74250.0  760000.0  \n",
       "2       57500.0  750000.0  \n",
       "3       67500.0  150000.0  \n",
       "4      172500.0  330000.0  "
      ]
     },
     "execution_count": 86,
     "metadata": {},
     "output_type": "execute_result"
    }
   ],
   "source": [
    "# numeric summaries of selling_price by number of owners\n",
    "df.groupby(\"owner\")[\"selling_price\"].describe()"
   ]
  },
  {
   "cell_type": "markdown",
   "metadata": {},
   "source": [
    "## Task 2: Plots of the selling_price variable"
   ]
  },
  {
   "cell_type": "code",
   "execution_count": 100,
   "metadata": {},
   "outputs": [
    {
     "data": {
      "text/plain": [
       "Text(0.5, 1.0, 'Selling Pirce by Driven Distance')"
      ]
     },
     "execution_count": 100,
     "metadata": {},
     "output_type": "execute_result"
    },
    {
     "data": {
      "image/png": "[encoded data removed]",
      "text/plain": [
       "<Figure size 432x288 with 1 Axes>"
      ]
     },
     "metadata": {
      "needs_background": "light"
     },
     "output_type": "display_data"
    }
   ],
   "source": [
    "# graphic summery - scatter plot of selling price by driven distance\n",
    "df.plot.scatter(x=\"km_driven\", y=\"selling_price\")\n",
    "plt.xlabel(\"Driven Distance [km]\")\n",
    "plt.ylabel(\"Selling Price\")\n",
    "plt.title(\"Selling Pirce by Driven Distance\")\n",
    "\n",
    "plt.show()"
   ]
  },
  {
   "cell_type": "code",
   "execution_count": 102,
   "metadata": {},
   "outputs": [
    {
     "data": {
      "text/plain": [
       "Text(0.5, 1.0, 'Sold by Individual')"
      ]
     },
     "execution_count": 102,
     "metadata": {},
     "output_type": "execute_result"
    },
    {
     "data": {
      "image/png": "[encoded data removed]",
      "text/plain": [
       "<Figure size 1080x360 with 2 Axes>"
      ]
     },
     "metadata": {
      "needs_background": "light"
     },
     "output_type": "display_data"
    }
   ],
   "source": [
    "# graphic summery - scatter plot of selling price by seller type\n",
    "df_dealer = df[df[\"seller_type\"] == \"Dealer\"]\n",
    "df_individual = df[df[\"seller_type\"] == \"Individual\"]\n",
    "\n",
    "# create 1x2 plots\n",
    "fig, ax = plt.subplots(nrows = 1, ncols = 2, figsize=(15, 5))\n",
    "\n",
    "# first scatter plot\n",
    "plt.subplot(1, 2, 1) \n",
    "df_dealer.plot.scatter(ax=ax[0], x=\"year\", y=\"selling_price\")\n",
    "plt.xlabel(\"Year\")\n",
    "plt.ylabel(\"Selling Price\")\n",
    "plt.title(\"Sold by Dealer\")\n",
    "\n",
    "# second scatter plot\n",
    "plt.subplot(1, 2, 2) \n",
    "df_individual.plot.scatter(ax=ax[1], x=\"year\", y=\"selling_price\")\n",
    "plt.xlabel(\"Year\")\n",
    "plt.ylabel(\"Selling Price\")\n",
    "plt.title(\"Sold by Individual\")\n",
    "\n",
    "plt.show()"
   ]
  },
  {
   "cell_type": "markdown",
   "metadata": {},
   "source": [
    "## Task 3: Two-way contingency table"
   ]
  },
  {
   "cell_type": "code",
   "execution_count": 91,
   "metadata": {},
   "outputs": [
    {
     "data": {
      "text/html": [
       "<div>\n",
       "<style scoped>\n",
       "    .dataframe tbody tr th:only-of-type {\n",
       "        vertical-align: middle;\n",
       "    }\n",
       "\n",
       "    .dataframe tbody tr th {\n",
       "        vertical-align: top;\n",
       "    }\n",
       "\n",
       "    .dataframe thead th {\n",
       "        text-align: right;\n",
       "    }\n",
       "</style>\n",
       "<table border=\"1\" class=\"dataframe\">\n",
       "  <thead>\n",
       "    <tr style=\"text-align: right;\">\n",
       "      <th>price_range</th>\n",
       "      <th>(0, 10000]</th>\n",
       "      <th>(10000, 100000]</th>\n",
       "      <th>(100000, 1000000]</th>\n",
       "      <th>All</th>\n",
       "    </tr>\n",
       "    <tr>\n",
       "      <th>owner</th>\n",
       "      <th></th>\n",
       "      <th></th>\n",
       "      <th></th>\n",
       "      <th></th>\n",
       "    </tr>\n",
       "  </thead>\n",
       "  <tbody>\n",
       "    <tr>\n",
       "      <th>1</th>\n",
       "      <td>19</td>\n",
       "      <td>775</td>\n",
       "      <td>130</td>\n",
       "      <td>924</td>\n",
       "    </tr>\n",
       "    <tr>\n",
       "      <th>2</th>\n",
       "      <td>4</td>\n",
       "      <td>105</td>\n",
       "      <td>14</td>\n",
       "      <td>123</td>\n",
       "    </tr>\n",
       "    <tr>\n",
       "      <th>3</th>\n",
       "      <td>0</td>\n",
       "      <td>10</td>\n",
       "      <td>1</td>\n",
       "      <td>11</td>\n",
       "    </tr>\n",
       "    <tr>\n",
       "      <th>4</th>\n",
       "      <td>1</td>\n",
       "      <td>1</td>\n",
       "      <td>1</td>\n",
       "      <td>3</td>\n",
       "    </tr>\n",
       "    <tr>\n",
       "      <th>All</th>\n",
       "      <td>24</td>\n",
       "      <td>891</td>\n",
       "      <td>146</td>\n",
       "      <td>1061</td>\n",
       "    </tr>\n",
       "  </tbody>\n",
       "</table>\n",
       "</div>"
      ],
      "text/plain": [
       "price_range  (0, 10000]  (10000, 100000]  (100000, 1000000]   All\n",
       "owner                                                            \n",
       "1                    19              775                130   924\n",
       "2                     4              105                 14   123\n",
       "3                     0               10                  1    11\n",
       "4                     1                1                  1     3\n",
       "All                  24              891                146  1061"
      ]
     },
     "execution_count": 91,
     "metadata": {},
     "output_type": "execute_result"
    }
   ],
   "source": [
    "# Contingency table: owner by selling prices (ranges)\n",
    "df[\"price_range\"] = pd.cut(df.selling_price, bins=[0, 10000, 100000, 1000000])\n",
    "pd.crosstab(df.owner, df.price_range, margins = True) "
   ]
  },
  {
   "cell_type": "code",
   "execution_count": 103,
   "metadata": {},
   "outputs": [
    {
     "data": {
      "image/png": "[encoded data removed]",
      "text/plain": [
       "<Figure size 432x288 with 1 Axes>"
      ]
     },
     "metadata": {
      "needs_background": "light"
     },
     "output_type": "display_data"
    }
   ],
   "source": [
    "# stacked bar plot: owner by selling prices (ranges)\n",
    "pd.crosstab(df.owner, df.price_range).plot.bar()\n",
    "plt.xlabel(\"Number of Owners\")\n",
    "plt.ylabel(\"Frequency\")\n",
    "plt.title(\"Number of Owners by Selling Price Ranges\")\n",
    "plt.xticks(rotation = 0)\n",
    "\n",
    "plt.show()"
   ]
  },
  {
   "cell_type": "code",
   "execution_count": 93,
   "metadata": {},
   "outputs": [
    {
     "data": {
      "text/html": [
       "<div>\n",
       "<style scoped>\n",
       "    .dataframe tbody tr th:only-of-type {\n",
       "        vertical-align: middle;\n",
       "    }\n",
       "\n",
       "    .dataframe tbody tr th {\n",
       "        vertical-align: top;\n",
       "    }\n",
       "\n",
       "    .dataframe thead th {\n",
       "        text-align: right;\n",
       "    }\n",
       "</style>\n",
       "<table border=\"1\" class=\"dataframe\">\n",
       "  <thead>\n",
       "    <tr style=\"text-align: right;\">\n",
       "      <th>price_range</th>\n",
       "      <th>(0, 10000]</th>\n",
       "      <th>(10000, 100000]</th>\n",
       "      <th>(100000, 1000000]</th>\n",
       "      <th>All</th>\n",
       "    </tr>\n",
       "    <tr>\n",
       "      <th>dist_range</th>\n",
       "      <th></th>\n",
       "      <th></th>\n",
       "      <th></th>\n",
       "      <th></th>\n",
       "    </tr>\n",
       "  </thead>\n",
       "  <tbody>\n",
       "    <tr>\n",
       "      <th>(0, 10000]</th>\n",
       "      <td>0</td>\n",
       "      <td>131</td>\n",
       "      <td>79</td>\n",
       "      <td>210</td>\n",
       "    </tr>\n",
       "    <tr>\n",
       "      <th>(10000, 100000]</th>\n",
       "      <td>22</td>\n",
       "      <td>748</td>\n",
       "      <td>66</td>\n",
       "      <td>836</td>\n",
       "    </tr>\n",
       "    <tr>\n",
       "      <th>(100000, 1000000]</th>\n",
       "      <td>2</td>\n",
       "      <td>12</td>\n",
       "      <td>1</td>\n",
       "      <td>15</td>\n",
       "    </tr>\n",
       "    <tr>\n",
       "      <th>All</th>\n",
       "      <td>24</td>\n",
       "      <td>891</td>\n",
       "      <td>146</td>\n",
       "      <td>1061</td>\n",
       "    </tr>\n",
       "  </tbody>\n",
       "</table>\n",
       "</div>"
      ],
      "text/plain": [
       "price_range        (0, 10000]  (10000, 100000]  (100000, 1000000]   All\n",
       "dist_range                                                             \n",
       "(0, 10000]                  0              131                 79   210\n",
       "(10000, 100000]            22              748                 66   836\n",
       "(100000, 1000000]           2               12                  1    15\n",
       "All                        24              891                146  1061"
      ]
     },
     "execution_count": 93,
     "metadata": {},
     "output_type": "execute_result"
    }
   ],
   "source": [
    "# Contingency table: driven distances (ranges) by selling prices (ranges)\n",
    "df[\"dist_range\"] = pd.cut(df.km_driven, bins=[0, 10000, 100000, 1000000])\n",
    "pd.crosstab(df.dist_range, df.price_range, margins = True) "
   ]
  },
  {
   "cell_type": "code",
   "execution_count": 104,
   "metadata": {},
   "outputs": [
    {
     "data": {
      "image/png": "[encoded data removed]",
      "text/plain": [
       "<Figure size 432x288 with 1 Axes>"
      ]
     },
     "metadata": {
      "needs_background": "light"
     },
     "output_type": "display_data"
    }
   ],
   "source": [
    "# side-by-side bar plot: driven distances (ranges) by selling prices (ranges)\n",
    "pd.crosstab(df.dist_range, df.price_range).plot.bar(stacked = True)\n",
    "plt.xlabel(\"Driven Distance [km]\")\n",
    "plt.ylabel(\"Frequency\")\n",
    "plt.title(\"Driven Distance by Selling Price Ranges\")\n",
    "plt.xticks(rotation = 0)\n",
    "\n",
    "plt.show()"
   ]
  }
 ],
 "metadata": {
  "interpreter": {
   "hash": "662f86ef376671a988e108b9a80f41ae296e240171aee519bbf45f59b71f9158"
  },
  "kernelspec": {
   "display_name": "Python 3.10.1 64-bit",
   "language": "python",
   "name": "python3"
  },
  "language_info": {
   "codemirror_mode": {
    "name": "ipython",
    "version": 3
   },
   "file_extension": ".py",
   "mimetype": "text/x-python",
   "name": "python",
   "nbconvert_exporter": "python",
   "pygments_lexer": "ipython3",
   "version": "3.10.1"
  },
  "orig_nbformat": 4
 },
 "nbformat": 4,
 "nbformat_minor": 2
}
