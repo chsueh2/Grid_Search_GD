{
 "cells": [
  {
   "cell_type": "markdown",
   "metadata": {},
   "source": [
    "# Part 2.1: Prediction Using Grid Search"
   ]
  },
  {
   "cell_type": "code",
   "execution_count": 1,
   "metadata": {},
   "outputs": [
    {
     "name": "stdout",
     "output_type": "stream",
     "text": [
      "<class 'pandas.core.frame.DataFrame'>\n",
      "RangeIndex: 1061 entries, 0 to 1060\n",
      "Data columns (total 7 columns):\n",
      " #   Column             Non-Null Count  Dtype   \n",
      "---  ------             --------------  -----   \n",
      " 0   name               1061 non-null   object  \n",
      " 1   selling_price      1061 non-null   int64   \n",
      " 2   year               1061 non-null   int64   \n",
      " 3   seller_type        1061 non-null   category\n",
      " 4   owner              1061 non-null   int32   \n",
      " 5   km_driven          1061 non-null   int64   \n",
      " 6   ex_showroom_price  626 non-null    float64 \n",
      "dtypes: category(1), float64(1), int32(1), int64(3), object(1)\n",
      "memory usage: 46.9+ KB\n",
      "None\n",
      "                                  name  selling_price  year seller_type  \\\n",
      "0            Royal Enfield Classic 350         175000  2019  Individual   \n",
      "1                            Honda Dio          45000  2017  Individual   \n",
      "2  Royal Enfield Classic Gunmetal Grey         150000  2018  Individual   \n",
      "3    Yamaha Fazer FI V 2.0 [2016-2018]          65000  2015  Individual   \n",
      "4                Yamaha SZ [2013-2014]          20000  2011  Individual   \n",
      "\n",
      "   owner  km_driven  ex_showroom_price  \n",
      "0      1        350                NaN  \n",
      "1      1       5650                NaN  \n",
      "2      1      12000           148114.0  \n",
      "3      1      23000            89643.0  \n",
      "4      2      21000                NaN  \n"
     ]
    }
   ],
   "source": [
    "# Run the common codes to import modules, get data and pre-defined loss functions\n",
    "%run Part0.ipynb"
   ]
  },
  {
   "cell_type": "code",
   "execution_count": 2,
   "metadata": {},
   "outputs": [
    {
     "data": {
      "text/html": [
       "<div>\n",
       "<style scoped>\n",
       "    .dataframe tbody tr th:only-of-type {\n",
       "        vertical-align: middle;\n",
       "    }\n",
       "\n",
       "    .dataframe tbody tr th {\n",
       "        vertical-align: top;\n",
       "    }\n",
       "\n",
       "    .dataframe thead th {\n",
       "        text-align: right;\n",
       "    }\n",
       "</style>\n",
       "<table border=\"1\" class=\"dataframe\">\n",
       "  <thead>\n",
       "    <tr style=\"text-align: right;\">\n",
       "      <th></th>\n",
       "      <th>name</th>\n",
       "      <th>selling_price</th>\n",
       "      <th>year</th>\n",
       "      <th>seller_type</th>\n",
       "      <th>owner</th>\n",
       "      <th>km_driven</th>\n",
       "      <th>ex_showroom_price</th>\n",
       "    </tr>\n",
       "  </thead>\n",
       "  <tbody>\n",
       "    <tr>\n",
       "      <th>0</th>\n",
       "      <td>Royal Enfield Classic 350</td>\n",
       "      <td>175000</td>\n",
       "      <td>2019</td>\n",
       "      <td>Individual</td>\n",
       "      <td>1</td>\n",
       "      <td>350</td>\n",
       "      <td>NaN</td>\n",
       "    </tr>\n",
       "    <tr>\n",
       "      <th>1</th>\n",
       "      <td>Honda Dio</td>\n",
       "      <td>45000</td>\n",
       "      <td>2017</td>\n",
       "      <td>Individual</td>\n",
       "      <td>1</td>\n",
       "      <td>5650</td>\n",
       "      <td>NaN</td>\n",
       "    </tr>\n",
       "    <tr>\n",
       "      <th>2</th>\n",
       "      <td>Royal Enfield Classic Gunmetal Grey</td>\n",
       "      <td>150000</td>\n",
       "      <td>2018</td>\n",
       "      <td>Individual</td>\n",
       "      <td>1</td>\n",
       "      <td>12000</td>\n",
       "      <td>148114.0</td>\n",
       "    </tr>\n",
       "    <tr>\n",
       "      <th>3</th>\n",
       "      <td>Yamaha Fazer FI V 2.0 [2016-2018]</td>\n",
       "      <td>65000</td>\n",
       "      <td>2015</td>\n",
       "      <td>Individual</td>\n",
       "      <td>1</td>\n",
       "      <td>23000</td>\n",
       "      <td>89643.0</td>\n",
       "    </tr>\n",
       "    <tr>\n",
       "      <th>4</th>\n",
       "      <td>Yamaha SZ [2013-2014]</td>\n",
       "      <td>20000</td>\n",
       "      <td>2011</td>\n",
       "      <td>Individual</td>\n",
       "      <td>2</td>\n",
       "      <td>21000</td>\n",
       "      <td>NaN</td>\n",
       "    </tr>\n",
       "  </tbody>\n",
       "</table>\n",
       "</div>"
      ],
      "text/plain": [
       "                                  name  selling_price  year seller_type  \\\n",
       "0            Royal Enfield Classic 350         175000  2019  Individual   \n",
       "1                            Honda Dio          45000  2017  Individual   \n",
       "2  Royal Enfield Classic Gunmetal Grey         150000  2018  Individual   \n",
       "3    Yamaha Fazer FI V 2.0 [2016-2018]          65000  2015  Individual   \n",
       "4                Yamaha SZ [2013-2014]          20000  2011  Individual   \n",
       "\n",
       "   owner  km_driven  ex_showroom_price  \n",
       "0      1        350                NaN  \n",
       "1      1       5650                NaN  \n",
       "2      1      12000           148114.0  \n",
       "3      1      23000            89643.0  \n",
       "4      2      21000                NaN  "
      ]
     },
     "execution_count": 2,
     "metadata": {},
     "output_type": "execute_result"
    }
   ],
   "source": [
    "# the dataframe\n",
    "df.head()"
   ]
  },
  {
   "cell_type": "code",
   "execution_count": 3,
   "metadata": {},
   "outputs": [
    {
     "data": {
      "text/plain": [
       "2.4324199198877374"
      ]
     },
     "execution_count": 3,
     "metadata": {},
     "output_type": "execute_result"
    }
   ],
   "source": [
    "# the loss function\n",
    "x = [34, 37, 44, 47, 48, 48, 46, 43, 32, 27, 26, 24]\n",
    "y = [37, 40, 46, 44, 46, 50, 45, 44, 34, 30, 22, 23]\n",
    "\n",
    "loss(x, y)"
   ]
  },
  {
   "cell_type": "code",
   "execution_count": 4,
   "metadata": {},
   "outputs": [
    {
     "data": {
      "text/plain": [
       "count      1061.000000\n",
       "mean      59638.151744\n",
       "std       56304.291973\n",
       "min        5000.000000\n",
       "25%       28000.000000\n",
       "50%       45000.000000\n",
       "75%       70000.000000\n",
       "max      760000.000000\n",
       "Name: selling_price, dtype: float64"
      ]
     },
     "execution_count": 4,
     "metadata": {},
     "output_type": "execute_result"
    }
   ],
   "source": [
    "df.selling_price.describe()"
   ]
  },
  {
   "cell_type": "markdown",
   "metadata": {},
   "source": [
    "## Define helper functions\n",
    "Before we start the grid search, it will be convinient if we first define the following functions:\n",
    "1. The loss function to calculate the rmse\n",
    "2. The grid search function to search the fitting parameters which gives the minimum of rmse"
   ]
  },
  {
   "cell_type": "code",
   "execution_count": 5,
   "metadata": {},
   "outputs": [],
   "source": [
    "# define grid search function\n",
    "## obs: observations (pandas series)\n",
    "## var_x: variable (regressor) used for prediction (pandas series)\n",
    "## rng_b0: range of initial b0 grid (list of upper and lower bounds)\n",
    "## rng_b1: range of initial b1 grid (list of upper and lower bounds)\n",
    "## n_grid: number of grids\n",
    "def grid_search(obs, var_x, rng_b0, rng_b1, n_grid):\n",
    "    # set up grid axes and get the step sizes\n",
    "    lst_b0, b0_step = np.linspace(rng_b0[0], rng_b0[1], n_grid + 1, retstep = True)\n",
    "    lst_b1, b1_step = np.linspace(rng_b1[0], rng_b1[1], n_grid + 1, retstep = True)\n",
    "    \n",
    "    # remove duplicated stops\n",
    "    lst_b0 = list(set(lst_b0))\n",
    "    lst_b1 = list(set(lst_b1))\n",
    "    \n",
    "    # generate the search grid by expanding axes\n",
    "    grid = [(b0, b1) for b0 in lst_b0 for b1 in lst_b1]\n",
    "    \n",
    "    # calculate rmse for every point in the search grid\n",
    "    lst_rmse = [loss(obs, b0 + b1 * np.array(var_x)) for b0, b1 in grid]\n",
    "    \n",
    "    # find optimal b0 and b1\n",
    "    idx = lst_rmse.index(np.min(lst_rmse))\n",
    "    b0, b1 = grid[idx] \n",
    "    print(f\"index: {idx}, b0 = {b0}, b1 = {b1}\")\n",
    "    print(f\"step size: b0 = {b0_step}, b1 = {b1_step}\")\n",
    "    \n",
    "    return b0, b1, b0_step, b1_step"
   ]
  },
  {
   "cell_type": "markdown",
   "metadata": {},
   "source": [
    "## Task 1: Just $y$\n",
    "The model we will first try is: $\\hat{y}_i = \\beta_0 + \\beta_1 x_i$ with $\\beta_1 = 0$.\n",
    "\n",
    "In this case, we only use $\\beta_0$ to predict the selling price. Therefore, we can choose the initial range of the search grid for $\\beta_0$ to be the range of the selling prices. The search grid for $\\beta_1$ is zero. We will do 1000 grids in each of our search.\n",
    "\n",
    "- Initial range for $\\beta_0$: The minimum and maximum of the selling price\n",
    "- Initial range for $\\beta_1$: The initial range is 0 (we are not using it in this model)\n",
    "- Number of grids: 1000"
   ]
  },
  {
   "cell_type": "markdown",
   "metadata": {},
   "source": [
    "### The 1st grid search"
   ]
  },
  {
   "cell_type": "code",
   "execution_count": 6,
   "metadata": {},
   "outputs": [
    {
     "name": "stdout",
     "output_type": "stream",
     "text": [
      "index: 985, b0 = 59360.0, b1 = 0.0\n",
      "step size: b0 = 755.0, b1 = 0.0\n"
     ]
    }
   ],
   "source": [
    "# set up initial parameters\n",
    "## rng_b0 = [lower bound, upper bound] of initial b0\n",
    "## rng_b1 = [lower bound, upper bound] of initial b1\n",
    "rng_b0 = [df.selling_price.min(), df.selling_price.max()]\n",
    "rng_b1 = [0, 0]\n",
    "n_grid = 1000\n",
    "\n",
    "# perform grid search\n",
    "b0, b1, b0_step, b1_step = grid_search(df.selling_price, df.km_driven, rng_b0, rng_b1, n_grid)"
   ]
  },
  {
   "cell_type": "markdown",
   "metadata": {},
   "source": [
    "We found that when $\\beta_0$ is 59360.0, we have the minimal rmse.\n",
    "\n",
    "The step size for $\\beta_0$ is 755.0 so we can narrow down the search grid and do another grid search."
   ]
  },
  {
   "cell_type": "markdown",
   "metadata": {},
   "source": [
    "### The 2nd grid search"
   ]
  },
  {
   "cell_type": "code",
   "execution_count": 7,
   "metadata": {},
   "outputs": [
    {
     "name": "stdout",
     "output_type": "stream",
     "text": [
      "index: 162, b0 = 59637.84, b1 = 0.0\n",
      "step size: b0 = 1.51, b1 = 0.0\n"
     ]
    }
   ],
   "source": [
    "# set up initial parameters\n",
    "rng_b0 = [b0 - b0_step, b0 + b0_step]\n",
    "rng_b1 = [b1 - b1_step, b1 + b1_step]\n",
    "n_grid = 1000\n",
    "\n",
    "# perform grid search\n",
    "b0, b1, b0_step, b1_step = grid_search(df.selling_price, df.km_driven, rng_b0, rng_b1, n_grid)"
   ]
  },
  {
   "cell_type": "markdown",
   "metadata": {},
   "source": [
    "We found that when $\\beta_0$ is 59637.84, we have the minimal rmse.\n",
    "\n",
    "The step size for $\\beta_0$ is 1.51 so we can narrow down the search grid and do another grid search."
   ]
  },
  {
   "cell_type": "markdown",
   "metadata": {},
   "source": [
    "### The 3rd grid search"
   ]
  },
  {
   "cell_type": "code",
   "execution_count": 8,
   "metadata": {},
   "outputs": [
    {
     "name": "stdout",
     "output_type": "stream",
     "text": [
      "index: 689, b0 = 59638.15106, b1 = 0.0\n",
      "step size: b0 = 0.0030200000000040745, b1 = 0.0\n"
     ]
    }
   ],
   "source": [
    "# set up initial parameters\n",
    "rng_b0 = [b0 - b0_step, b0 + b0_step]\n",
    "rng_b1 = [b1 - b1_step, b1 + b1_step]\n",
    "n_grid = 1000\n",
    "\n",
    "# perform grid search\n",
    "b0, b1, b0_step, b1_step = grid_search(df.selling_price, df.km_driven, rng_b0, rng_b1, n_grid)"
   ]
  },
  {
   "cell_type": "markdown",
   "metadata": {},
   "source": [
    "Now the step size is small and we have the precision to the 1st decimal point:\n",
    "- $\\beta_0 = 59638.15106$ with step size $0.0030200000000040745$\n",
    "\n",
    "The value of $\\beta_0$ is close to the mean of the selling price $59638.151744$ as expected."
   ]
  },
  {
   "cell_type": "markdown",
   "metadata": {},
   "source": [
    "## Task 2: Using $y$ and another numeric variable $x$\n",
    "Now we will fit the model $\\hat{y}_i = \\beta_0 + \\beta_1 x_i$.\n",
    "\n",
    "To determine the inital ranges of the search grids for $\\beta_0$ and $\\beta_1$, recall the scatter plot:"
   ]
  },
  {
   "cell_type": "code",
   "execution_count": 9,
   "metadata": {},
   "outputs": [
    {
     "data": {
      "image/png": "[encoded data removed]",
      "text/plain": [
       "<Figure size 432x288 with 1 Axes>"
      ]
     },
     "metadata": {
      "needs_background": "light"
     },
     "output_type": "display_data"
    }
   ],
   "source": [
    "# graphic summery - scatter plot of selling price by driven distance\n",
    "df.plot.scatter(x=\"km_driven\", y=\"selling_price\")\n",
    "plt.xlabel(\"Driven Distance [km]\")\n",
    "plt.ylabel(\"Selling Price\")\n",
    "plt.title(\"Selling Pirce by Driven Distance\")\n",
    "\n",
    "# add two estimated fitting lines for low- and high-mileage data points\n",
    "plt.plot([0, 50000], [700000, 0], c = \"red\")\n",
    "plt.plot([0, 900000], [50000, 50000], c = \"green\")\n",
    "\n",
    "# annotate the estimated slopes and y-axis intercepts\n",
    "plt.annotate(\"Slop = -700000/50000, y-axis intecept = 900000\", xy =(50000, 600000), c = \"red\")\n",
    "plt.annotate(\"Slop = 0, y-axis intecept = 50000\", xy =(300000, 150000), c = \"green\")\n",
    "\n",
    "plt.show()"
   ]
  },
  {
   "cell_type": "markdown",
   "metadata": {},
   "source": [
    "With low milelages, we can draw a line (red) with a negative slope (≈-700000/50000) and a large positive y-axis intercept (≈1000000). Similarly, with high milelages (right), we can draw a horizontal line (green) with a zero slope (≈0) and a small postive y-axis intercept (≈50000). A best fitting line has a slop and y-axis intercept between these two lines' slopes and y-axis intecepts. \n",
    "\n",
    "Therefore, we can use these two lines to estimate the lower and upper bounds of the slope $\\beta_1$ and the y-axis intercept $\\beta_0$, and use them as the inital ranges of our search grids.\n",
    "\n",
    "- Initial range for $\\beta_0$: 50000 ~ 1000000\n",
    "- Initial range for $\\beta_1$: -700000/50000 ~ 0\n",
    "- Number of grids: 100"
   ]
  },
  {
   "cell_type": "markdown",
   "metadata": {},
   "source": [
    "### The 1st grid search"
   ]
  },
  {
   "cell_type": "code",
   "execution_count": 10,
   "metadata": {},
   "outputs": [
    {
     "name": "stdout",
     "output_type": "stream",
     "text": [
      "index: 7883, b0 = 69000.0, b1 = -0.27999999999999936\n",
      "step size: b0 = 9500.0, b1 = 0.14\n"
     ]
    }
   ],
   "source": [
    "# set up initial parameters and precision\n",
    "## rng_b0 = [lower bound, upper bound] of initial b0\n",
    "## rng_b1 = [lower bound, upper bound] of initial b1\n",
    "rng_b0 = [50000, 1000000]\n",
    "rng_b1 = [-700000/50000, 0]\n",
    "n_grid = 100\n",
    "\n",
    "# perform grid search\n",
    "b0, b1, b0_step, b1_step = grid_search(df.selling_price, df.km_driven, rng_b0, rng_b1, n_grid)"
   ]
  },
  {
   "cell_type": "markdown",
   "metadata": {},
   "source": [
    "We found that when $\\beta_0$ is 69000.0 and $\\beta_1$ is -0.27999999999999936, we have the minimal rmse.\n",
    "\n",
    "The step sizes for both $\\beta_0$ and $\\beta_1$ are quite big. Therefore, we can narrow down the search grid and do another grid search."
   ]
  },
  {
   "cell_type": "markdown",
   "metadata": {},
   "source": [
    "### The 2nd grid search"
   ]
  },
  {
   "cell_type": "code",
   "execution_count": 11,
   "metadata": {},
   "outputs": [
    {
     "name": "stdout",
     "output_type": "stream",
     "text": [
      "index: 1677, b0 = 67670.0, b1 = -0.23239999999999936\n",
      "step size: b0 = 190.0, b1 = 0.0028000000000000004\n"
     ]
    }
   ],
   "source": [
    "# set up initial parameters\n",
    "rng_b0 = [b0 - b0_step, b0 + b0_step]\n",
    "rng_b1 = [b1 - b1_step, b1 + b1_step]\n",
    "n_grid = 100\n",
    "\n",
    "# perform grid search\n",
    "b0, b1, b0_step, b1_step = grid_search(df.selling_price, df.km_driven, rng_b0, rng_b1, n_grid)"
   ]
  },
  {
   "cell_type": "markdown",
   "metadata": {},
   "source": [
    "We found that when $\\beta_0$ is 67670.0 and $\\beta_1$ is -0.23239999999999936, we have the minimal rmse.\n",
    "\n",
    "The step size for $\\beta_1$ is small but for $\\beta_0$, it is quite big. Therefore, we can narrow down the search grid and do another grid search."
   ]
  },
  {
   "cell_type": "markdown",
   "metadata": {},
   "source": [
    "### The 3rd grid search"
   ]
  },
  {
   "cell_type": "code",
   "execution_count": 12,
   "metadata": {},
   "outputs": [
    {
     "name": "stdout",
     "output_type": "stream",
     "text": [
      "index: 904, b0 = 67616.8, b1 = -0.23223199999999936\n",
      "step size: b0 = 3.8, b1 = 5.599999999999994e-05\n"
     ]
    }
   ],
   "source": [
    "# set up initial parameters\n",
    "rng_b0 = [b0 - b0_step, b0 + b0_step]\n",
    "rng_b1 = [b1 - b1_step, b1 + b1_step]\n",
    "n_grid = 100\n",
    "\n",
    "# perform grid search\n",
    "b0, b1, b0_step, b1_step = grid_search(df.selling_price, df.km_driven, rng_b0, rng_b1, n_grid)"
   ]
  },
  {
   "cell_type": "markdown",
   "metadata": {},
   "source": [
    "We found that when $\\beta_0$ is 67616.8 and $\\beta_1$ is -0.23223199999999936, we have the minimal rmse.\n",
    "\n",
    "The step size for $\\beta_0$ is 3.8. To get precision to the decimal point, we can narrow down the search grid and do another grid search."
   ]
  },
  {
   "cell_type": "markdown",
   "metadata": {},
   "source": [
    "### The 4th grid search"
   ]
  },
  {
   "cell_type": "code",
   "execution_count": 13,
   "metadata": {},
   "outputs": [
    {
     "name": "stdout",
     "output_type": "stream",
     "text": [
      "index: 7680, b0 = 67618.092, b1 = -0.23224543999999936\n",
      "step size: b0 = 0.0760000000000582, b1 = 1.1200000000000098e-06\n"
     ]
    }
   ],
   "source": [
    "# set up initial parameters\n",
    "rng_b0 = [b0 - b0_step, b0 + b0_step]\n",
    "rng_b1 = [b1 - b1_step, b1 + b1_step]\n",
    "n_grid = 100\n",
    "\n",
    "# perform grid search\n",
    "b0, b1, b0_step, b1_step = grid_search(df.selling_price, df.km_driven, rng_b0, rng_b1, n_grid)"
   ]
  },
  {
   "cell_type": "markdown",
   "metadata": {},
   "source": [
    "At last, both the step sizes are small and we have the precision to the 1st decimal point:\n",
    "- $\\beta_0 = 67618.092$ with step size $0.0760000000000582$\n",
    "- $\\beta_1 = -0.23224543999999936$ with step size $1.1200000000000098e-06$\n",
    "\n",
    "And these agree well with the simple linear regression:"
   ]
  },
  {
   "cell_type": "code",
   "execution_count": 14,
   "metadata": {},
   "outputs": [
    {
     "name": "stdout",
     "output_type": "stream",
     "text": [
      "intercept (b0) = 67618.07212024048, slope (b1) = -0.2322456088674644\n"
     ]
    }
   ],
   "source": [
    "# fit a simple linear regression model for comparison\n",
    "slope, intercept, *_ = stats.linregress(df.km_driven, df.selling_price)\n",
    "print(f\"intercept (b0) = {intercept}, slope (b1) = {slope}\")"
   ]
  },
  {
   "cell_type": "markdown",
   "metadata": {},
   "source": [
    "## Task 3: Predict Selling Prices"
   ]
  },
  {
   "cell_type": "code",
   "execution_count": 15,
   "metadata": {},
   "outputs": [
    {
     "data": {
      "text/plain": [
       "[65295.63760000001, 61811.95600000002, 59489.501600000025]"
      ]
     },
     "execution_count": 15,
     "metadata": {},
     "output_type": "execute_result"
    }
   ],
   "source": [
    "# Use the model to predict the selling prices for the specified driven distances\n",
    "[b0 + b1*x for x in [10000, 25000, 35000]]"
   ]
  },
  {
   "cell_type": "markdown",
   "metadata": {},
   "source": [
    "- The predicted selling price for 10000 km driven distance is 65295.63760000001.\n",
    "- The predicted selling price for 25000 km driven distance is 61811.95600000002.\n",
    "- The predicted selling price for 35000 km driven distance is 59489.501600000025."
   ]
  }
 ],
 "metadata": {
  "interpreter": {
   "hash": "662f86ef376671a988e108b9a80f41ae296e240171aee519bbf45f59b71f9158"
  },
  "kernelspec": {
   "display_name": "Python 3.10.1 64-bit",
   "language": "python",
   "name": "python3"
  },
  "language_info": {
   "codemirror_mode": {
    "name": "ipython",
    "version": 3
   },
   "file_extension": ".py",
   "mimetype": "text/x-python",
   "name": "python",
   "nbconvert_exporter": "python",
   "pygments_lexer": "ipython3",
   "version": "3.10.1"
  },
  "orig_nbformat": 4
 },
 "nbformat": 4,
 "nbformat_minor": 2
}
