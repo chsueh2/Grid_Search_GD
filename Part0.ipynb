{
 "cells": [
  {
   "cell_type": "markdown",
   "metadata": {},
   "source": [
    "# Part 0: Load Data and Define Loss Function\n",
    "This notebook contains shared (common) codes for:\n",
    "- Import modules\n",
    "- Read in data and prep dataframe\n",
    "- Define the loss function\n",
    "\n",
    "To use it, run the following code at the beginning of a Jupyter notebook: `%run Part0.ipynb`"
   ]
  },
  {
   "cell_type": "code",
   "execution_count": 1,
   "metadata": {},
   "outputs": [],
   "source": [
    "import numpy as np\n",
    "import pandas as pd\n",
    "import matplotlib.pyplot as plt\n",
    "import scipy.stats as stats"
   ]
  },
  {
   "cell_type": "markdown",
   "metadata": {},
   "source": [
    "## Read in data and prep dataframe"
   ]
  },
  {
   "cell_type": "code",
   "execution_count": 2,
   "metadata": {},
   "outputs": [
    {
     "name": "stdout",
     "output_type": "stream",
     "text": [
      "<class 'pandas.core.frame.DataFrame'>\n",
      "RangeIndex: 1061 entries, 0 to 1060\n",
      "Data columns (total 7 columns):\n",
      " #   Column             Non-Null Count  Dtype   \n",
      "---  ------             --------------  -----   \n",
      " 0   name               1061 non-null   object  \n",
      " 1   selling_price      1061 non-null   int64   \n",
      " 2   year               1061 non-null   int64   \n",
      " 3   seller_type        1061 non-null   category\n",
      " 4   owner              1061 non-null   int32   \n",
      " 5   km_driven          1061 non-null   int64   \n",
      " 6   ex_showroom_price  626 non-null    float64 \n",
      "dtypes: category(1), float64(1), int32(1), int64(3), object(1)\n",
      "memory usage: 46.9+ KB\n",
      "None\n",
      "                                  name  selling_price  year seller_type  \\\n",
      "0            Royal Enfield Classic 350         175000  2019  Individual   \n",
      "1                            Honda Dio          45000  2017  Individual   \n",
      "2  Royal Enfield Classic Gunmetal Grey         150000  2018  Individual   \n",
      "3    Yamaha Fazer FI V 2.0 [2016-2018]          65000  2015  Individual   \n",
      "4                Yamaha SZ [2013-2014]          20000  2011  Individual   \n",
      "\n",
      "   owner  km_driven  ex_showroom_price  \n",
      "0      1        350                NaN  \n",
      "1      1       5650                NaN  \n",
      "2      1      12000           148114.0  \n",
      "3      1      23000            89643.0  \n",
      "4      2      21000                NaN  \n"
     ]
    }
   ],
   "source": [
    "# read from a local CSV with row numbers as index\n",
    "df = pd.read_csv(\"bikeDetails.csv\")\n",
    "# convert seller_type to categorical variable\n",
    "df[\"seller_type\"] = df[\"seller_type\"].astype(\"category\")\n",
    "\n",
    "# convert owner to numeric variable\n",
    "df[\"owner\"] = df[\"owner\"].str[:1].astype(int)\n",
    "\n",
    "# data summary\n",
    "print(df.info())\n",
    "# take a look at the first rows of the data\n",
    "print(df.head())"
   ]
  },
  {
   "cell_type": "markdown",
   "metadata": {},
   "source": [
    "## Define the loss function - RMSE"
   ]
  },
  {
   "cell_type": "code",
   "execution_count": 12,
   "metadata": {},
   "outputs": [],
   "source": [
    "# loss function - rmse\n",
    "## obs: obserbation (pandas series)\n",
    "## pred: prediction (pandas series)\n",
    "def loss(obs, pred):\n",
    "    # in case pred is a number instead of a list, make it a list with the same length of the obs list\n",
    "    if type(pred) == int or type(pred) == float:\n",
    "        pred = [pred] * len(obs)\n",
    "        pass\n",
    "    \n",
    "    # calculate the rmse\n",
    "    return (np.mean(np.square(np.subtract(obs, pred)))) ** 0.5"
   ]
  }
 ],
 "metadata": {
  "interpreter": {
   "hash": "662f86ef376671a988e108b9a80f41ae296e240171aee519bbf45f59b71f9158"
  },
  "kernelspec": {
   "display_name": "Python 3.10.1 64-bit",
   "language": "python",
   "name": "python3"
  },
  "language_info": {
   "codemirror_mode": {
    "name": "ipython",
    "version": 3
   },
   "file_extension": ".py",
   "mimetype": "text/x-python",
   "name": "python",
   "nbconvert_exporter": "python",
   "pygments_lexer": "ipython3",
   "version": "3.10.1"
  },
  "orig_nbformat": 4
 },
 "nbformat": 4,
 "nbformat_minor": 2
}
